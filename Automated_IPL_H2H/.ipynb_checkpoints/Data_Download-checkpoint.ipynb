{
 "cells": [
  {
   "cell_type": "code",
   "execution_count": 1,
   "id": "d31b5a75-b9a1-4095-9780-373c4ab08a4e",
   "metadata": {},
   "outputs": [],
   "source": [
    "#ref for downloading and importing from internet : https://stackoverflow.com/questions/6861323/download-and-unzip-file-with-python\n",
    "\n",
    "import urllib.request\n",
    "import zipfile\n",
    "import os\n",
    "\n",
    "cwd = os.getcwd()\n",
    "    \n",
    "url = \"https://cricsheet.org/downloads/ipl_csv2.zip\"\n",
    "extract_dir = cwd+\"/data\"\n",
    "\n",
    "zip_path, _ = urllib.request.urlretrieve(url)\n",
    "with zipfile.ZipFile(zip_path, \"r\") as f:\n",
    "    f.extractall(extract_dir)"
   ]
  },
  {
   "cell_type": "markdown",
   "id": "35166f0e-73b1-4d8d-bcfd-3bbf0f0488ae",
   "metadata": {
    "tags": []
   },
   "source": [
    "### Import basic libraries"
   ]
  },
  {
   "cell_type": "code",
   "execution_count": 2,
   "id": "a319fcac-677c-4ba7-bae0-518032f577cc",
   "metadata": {},
   "outputs": [],
   "source": [
    "import pandas as pd\n",
    "import numpy as np"
   ]
  },
  {
   "cell_type": "markdown",
   "id": "b458804a-6267-4650-8a28-702235fea544",
   "metadata": {},
   "source": [
    "### Load the all IPL matches csv file"
   ]
  },
  {
   "cell_type": "code",
   "execution_count": 3,
   "id": "ea305e3f-512b-4c0d-888c-315ed51030af",
   "metadata": {},
   "outputs": [],
   "source": [
    "df = pd.read_csv(cwd+\"/data/all_matches.csv\",dtype = {'match_id':'int', 'season':'str','innings':'int', 'ball':'float'},parse_dates=True)\n",
    "df.season = df.season.replace({\"2007/08\": \"2008\",\"2009/10\": \"2010\",\"2020/21\":\"2020\"})"
   ]
  },
  {
   "cell_type": "code",
   "execution_count": 4,
   "id": "f08e3d34-65d2-474a-82f0-0b777ea3c5eb",
   "metadata": {},
   "outputs": [],
   "source": [
    "import re\n",
    "ipl_players = pd.DataFrame(columns=[\"season\",\"team\",\"player_name\",\"identifier\"])\n",
    "for mat_id in df.match_id.unique():\n",
    "    temp_df = pd.read_csv(f\"{cwd}/data/{mat_id}_info.csv\",sep='delimiter',engine='python')\n",
    "    season = temp_df.iloc[4][-1].split(\",\")[-1]\n",
    "    exploded_player_list = temp_df[temp_df.columns[0]].loc[20:41]\n",
    "    people_registry = \",\".join(temp_df[temp_df.columns[0]].loc[42:].values)\n",
    "    for player in exploded_player_list:\n",
    "        #print(player)\n",
    "        try:\n",
    "            df_row = []\n",
    "            df_row.append(season)\n",
    "            df_row.append(player.split(\",\")[2]) #team name\n",
    "            df_row.append(player.split(\",\")[3]) #player name\n",
    "            name = player.split(\",\")[3]\n",
    "            df_row.append((re.findall(f\"(?<={name},)(\\w*)\",people_registry))[0])\n",
    "            #print(df_row)\n",
    "            a_series = pd.Series(df_row, index = ipl_players.columns)\n",
    "            ipl_players = ipl_players.append(a_series, ignore_index=True)\n",
    "            #print(\"Try Succeeded\")\n",
    "        except:\n",
    "            #print(f\"Error for player {name}\")\n",
    "            pass"
   ]
  },
  {
   "cell_type": "code",
   "execution_count": 5,
   "id": "b1650516-3d63-4d91-8a31-62a514253f0c",
   "metadata": {},
   "outputs": [],
   "source": [
    "ipl_players.drop_duplicates(subset=[\"season\",\"identifier\"],inplace=True)"
   ]
  },
  {
   "cell_type": "code",
   "execution_count": 6,
   "id": "c001b16a-2cc7-4e7b-888a-31329f33ce98",
   "metadata": {},
   "outputs": [
    {
     "data": {
      "text/html": [
       "<div>\n",
       "<style scoped>\n",
       "    .dataframe tbody tr th:only-of-type {\n",
       "        vertical-align: middle;\n",
       "    }\n",
       "\n",
       "    .dataframe tbody tr th {\n",
       "        vertical-align: top;\n",
       "    }\n",
       "\n",
       "    .dataframe thead th {\n",
       "        text-align: right;\n",
       "    }\n",
       "</style>\n",
       "<table border=\"1\" class=\"dataframe\">\n",
       "  <thead>\n",
       "    <tr style=\"text-align: right;\">\n",
       "      <th></th>\n",
       "      <th>season</th>\n",
       "      <th>team</th>\n",
       "      <th>player_name</th>\n",
       "      <th>identifier</th>\n",
       "    </tr>\n",
       "  </thead>\n",
       "  <tbody>\n",
       "    <tr>\n",
       "      <th>8141</th>\n",
       "      <td>2013</td>\n",
       "      <td>Rajasthan Royals</td>\n",
       "      <td>PV Tambe</td>\n",
       "      <td>6aed7e79</td>\n",
       "    </tr>\n",
       "    <tr>\n",
       "      <th>8738</th>\n",
       "      <td>2014</td>\n",
       "      <td>Rajasthan Royals</td>\n",
       "      <td>PV Tambe</td>\n",
       "      <td>6aed7e79</td>\n",
       "    </tr>\n",
       "    <tr>\n",
       "      <th>10017</th>\n",
       "      <td>2015</td>\n",
       "      <td>Rajasthan Royals</td>\n",
       "      <td>PV Tambe</td>\n",
       "      <td>6aed7e79</td>\n",
       "    </tr>\n",
       "    <tr>\n",
       "      <th>11374</th>\n",
       "      <td>2016</td>\n",
       "      <td>Gujarat Lions</td>\n",
       "      <td>PV Tambe</td>\n",
       "      <td>6aed7e79</td>\n",
       "    </tr>\n",
       "  </tbody>\n",
       "</table>\n",
       "</div>"
      ],
      "text/plain": [
       "      season              team player_name identifier\n",
       "8141    2013  Rajasthan Royals    PV Tambe   6aed7e79\n",
       "8738    2014  Rajasthan Royals    PV Tambe   6aed7e79\n",
       "10017   2015  Rajasthan Royals    PV Tambe   6aed7e79\n",
       "11374   2016     Gujarat Lions    PV Tambe   6aed7e79"
      ]
     },
     "execution_count": 6,
     "metadata": {},
     "output_type": "execute_result"
    }
   ],
   "source": [
    "ipl_players[ipl_players[\"player_name\"]==\"PV Tambe\"]"
   ]
  },
  {
   "cell_type": "code",
   "execution_count": 7,
   "id": "a963ea3a-e902-4964-ae2b-786c6189d722",
   "metadata": {},
   "outputs": [],
   "source": [
    "people_url = \"https://cricsheet.org/register/people.csv\"\n",
    "people_df = pd.read_csv(people_url,dtype = {\"key_cricinfo\":'str'})"
   ]
  },
  {
   "cell_type": "code",
   "execution_count": 8,
   "id": "66314a20-f883-4a0f-8363-4ac44d17b48a",
   "metadata": {},
   "outputs": [],
   "source": [
    "merged_df = ipl_players.merge(people_df,how='left',on='identifier')\n",
    "merged_df.drop(['key_cricbuzz','key_crichq', 'key_bigbash', 'key_cricinfo_2', 'key_cricingif', 'key_cricketarchive','key_cricketarchive_2', 'key_opta', 'key_opta_2', 'key_pulse','key_pulse_2'],axis = 1 , inplace=True)"
   ]
  },
  {
   "cell_type": "code",
   "execution_count": 9,
   "id": "e8ec831f-c381-4e42-a32a-c95dc4ebe770",
   "metadata": {},
   "outputs": [
    {
     "data": {
      "text/html": [
       "<div>\n",
       "<style scoped>\n",
       "    .dataframe tbody tr th:only-of-type {\n",
       "        vertical-align: middle;\n",
       "    }\n",
       "\n",
       "    .dataframe tbody tr th {\n",
       "        vertical-align: top;\n",
       "    }\n",
       "\n",
       "    .dataframe thead th {\n",
       "        text-align: right;\n",
       "    }\n",
       "</style>\n",
       "<table border=\"1\" class=\"dataframe\">\n",
       "  <thead>\n",
       "    <tr style=\"text-align: right;\">\n",
       "      <th></th>\n",
       "      <th>season</th>\n",
       "      <th>team</th>\n",
       "      <th>player_name</th>\n",
       "      <th>identifier</th>\n",
       "      <th>name</th>\n",
       "      <th>unique_name</th>\n",
       "      <th>key_cricinfo</th>\n",
       "    </tr>\n",
       "  </thead>\n",
       "  <tbody>\n",
       "    <tr>\n",
       "      <th>0</th>\n",
       "      <td>2007/08</td>\n",
       "      <td>Kolkata Knight Riders</td>\n",
       "      <td>SC Ganguly</td>\n",
       "      <td>725529bc</td>\n",
       "      <td>SC Ganguly</td>\n",
       "      <td>SC Ganguly</td>\n",
       "      <td>28779</td>\n",
       "    </tr>\n",
       "    <tr>\n",
       "      <th>1</th>\n",
       "      <td>2007/08</td>\n",
       "      <td>Kolkata Knight Riders</td>\n",
       "      <td>BB McCullum</td>\n",
       "      <td>b8a55852</td>\n",
       "      <td>BB McCullum</td>\n",
       "      <td>BB McCullum</td>\n",
       "      <td>37737</td>\n",
       "    </tr>\n",
       "    <tr>\n",
       "      <th>2</th>\n",
       "      <td>2007/08</td>\n",
       "      <td>Kolkata Knight Riders</td>\n",
       "      <td>RT Ponting</td>\n",
       "      <td>7d415ea5</td>\n",
       "      <td>RT Ponting</td>\n",
       "      <td>RT Ponting</td>\n",
       "      <td>7133</td>\n",
       "    </tr>\n",
       "    <tr>\n",
       "      <th>3</th>\n",
       "      <td>2007/08</td>\n",
       "      <td>Kolkata Knight Riders</td>\n",
       "      <td>DJ Hussey</td>\n",
       "      <td>fd835ab3</td>\n",
       "      <td>DJ Hussey</td>\n",
       "      <td>DJ Hussey</td>\n",
       "      <td>5766</td>\n",
       "    </tr>\n",
       "    <tr>\n",
       "      <th>4</th>\n",
       "      <td>2007/08</td>\n",
       "      <td>Kolkata Knight Riders</td>\n",
       "      <td>Mohammad Hafeez</td>\n",
       "      <td>9ab63e7b</td>\n",
       "      <td>Mohammad Hafeez</td>\n",
       "      <td>Mohammad Hafeez</td>\n",
       "      <td>41434</td>\n",
       "    </tr>\n",
       "    <tr>\n",
       "      <th>...</th>\n",
       "      <td>...</td>\n",
       "      <td>...</td>\n",
       "      <td>...</td>\n",
       "      <td>...</td>\n",
       "      <td>...</td>\n",
       "      <td>...</td>\n",
       "      <td>...</td>\n",
       "    </tr>\n",
       "    <tr>\n",
       "      <th>2524</th>\n",
       "      <td>2022</td>\n",
       "      <td>Mumbai Indians</td>\n",
       "      <td>M Markande</td>\n",
       "      <td>a9fd84fb</td>\n",
       "      <td>M Markande</td>\n",
       "      <td>M Markande</td>\n",
       "      <td>1081442</td>\n",
       "    </tr>\n",
       "    <tr>\n",
       "      <th>2525</th>\n",
       "      <td>2022</td>\n",
       "      <td>Lucknow Super Giants</td>\n",
       "      <td>M Vohra</td>\n",
       "      <td>c03e2850</td>\n",
       "      <td>M Vohra</td>\n",
       "      <td>M Vohra</td>\n",
       "      <td>532856</td>\n",
       "    </tr>\n",
       "    <tr>\n",
       "      <th>2526</th>\n",
       "      <td>2022</td>\n",
       "      <td>Kolkata Knight Riders</td>\n",
       "      <td>A Tomar</td>\n",
       "      <td>aa5d8c9e</td>\n",
       "      <td>A Tomar</td>\n",
       "      <td>A Tomar</td>\n",
       "      <td>1081183</td>\n",
       "    </tr>\n",
       "    <tr>\n",
       "      <th>2527</th>\n",
       "      <td>2022</td>\n",
       "      <td>Royal Challengers Bangalore</td>\n",
       "      <td>S Kaul</td>\n",
       "      <td>dcf81436</td>\n",
       "      <td>S Kaul</td>\n",
       "      <td>S Kaul</td>\n",
       "      <td>326017</td>\n",
       "    </tr>\n",
       "    <tr>\n",
       "      <th>2528</th>\n",
       "      <td>2022</td>\n",
       "      <td>Punjab Kings</td>\n",
       "      <td>PN Mankad</td>\n",
       "      <td>663b5e34</td>\n",
       "      <td>PN Mankad</td>\n",
       "      <td>PN Mankad</td>\n",
       "      <td>956871</td>\n",
       "    </tr>\n",
       "  </tbody>\n",
       "</table>\n",
       "<p>2529 rows × 7 columns</p>\n",
       "</div>"
      ],
      "text/plain": [
       "       season                         team      player_name identifier  \\\n",
       "0     2007/08        Kolkata Knight Riders       SC Ganguly   725529bc   \n",
       "1     2007/08        Kolkata Knight Riders      BB McCullum   b8a55852   \n",
       "2     2007/08        Kolkata Knight Riders       RT Ponting   7d415ea5   \n",
       "3     2007/08        Kolkata Knight Riders        DJ Hussey   fd835ab3   \n",
       "4     2007/08        Kolkata Knight Riders  Mohammad Hafeez   9ab63e7b   \n",
       "...       ...                          ...              ...        ...   \n",
       "2524     2022               Mumbai Indians       M Markande   a9fd84fb   \n",
       "2525     2022         Lucknow Super Giants          M Vohra   c03e2850   \n",
       "2526     2022        Kolkata Knight Riders          A Tomar   aa5d8c9e   \n",
       "2527     2022  Royal Challengers Bangalore           S Kaul   dcf81436   \n",
       "2528     2022                 Punjab Kings        PN Mankad   663b5e34   \n",
       "\n",
       "                 name      unique_name key_cricinfo  \n",
       "0          SC Ganguly       SC Ganguly        28779  \n",
       "1         BB McCullum      BB McCullum        37737  \n",
       "2          RT Ponting       RT Ponting         7133  \n",
       "3           DJ Hussey        DJ Hussey         5766  \n",
       "4     Mohammad Hafeez  Mohammad Hafeez        41434  \n",
       "...               ...              ...          ...  \n",
       "2524       M Markande       M Markande      1081442  \n",
       "2525          M Vohra          M Vohra       532856  \n",
       "2526          A Tomar          A Tomar      1081183  \n",
       "2527           S Kaul           S Kaul       326017  \n",
       "2528        PN Mankad        PN Mankad       956871  \n",
       "\n",
       "[2529 rows x 7 columns]"
      ]
     },
     "execution_count": 9,
     "metadata": {},
     "output_type": "execute_result"
    }
   ],
   "source": [
    "merged_df"
   ]
  },
  {
   "cell_type": "code",
   "execution_count": 10,
   "id": "84f19e9b-31c8-42de-9a70-59ddcafc2ef5",
   "metadata": {},
   "outputs": [
    {
     "name": "stderr",
     "output_type": "stream",
     "text": [
      "100%|█████████████████████████████████████████| 655/655 [14:11<00:00,  1.30s/it]\n"
     ]
    }
   ],
   "source": [
    "from bs4 import BeautifulSoup\n",
    "from urllib.request import urlopen\n",
    "import requests\n",
    "from tqdm import tqdm\n",
    "\n",
    "#ref : https://www.digitalocean.com/community/tutorials/how-to-work-with-web-data-using-requests-and-beautiful-soup-with-python-3\n",
    "\n",
    "player_db = pd.DataFrame(columns=[\"key_cricinfo\",\"player_name\",\"batting_style\",\"player_type\",\"bowling_style\"])\n",
    "for player_id in tqdm(merged_df.key_cricinfo.unique()):\n",
    "    #print(\"Player ID\",player_id)\n",
    "    url = f\"https://www.espncricinfo.com/player/firstname-lastname-{player_id}\"\n",
    "    html = requests.get(url)\n",
    "    soup = BeautifulSoup(html.text,'html.parser')\n",
    "    res = soup.select(\".ds-grid\")\n",
    "    player_d = []\n",
    "    player_d.append(player_id)\n",
    "    fields = []\n",
    "    answers = []\n",
    "    for r in res[0]:\n",
    "        fields.append(r.find(\"p\").text)\n",
    "        answers.append(r.find(\"span\").text)\n",
    "    page_dict = dict(zip(fields, answers))\n",
    "    player_d.append(page_dict[\"Full Name\"])\n",
    "    player_d.append(page_dict[\"Batting Style\"])\n",
    "    try:\n",
    "        player_d.append(page_dict[\"Playing Role\"])\n",
    "        if(page_dict[\"Playing Role\"]!=\"Wicketkeeper Batter\"):\n",
    "            player_d.append(page_dict[\"Bowling Style\"])\n",
    "        else:\n",
    "            player_d.append(\"NA\")\n",
    "        a_series = pd.Series(player_d,index = player_db.columns)\n",
    "        player_db = player_db.append(a_series, ignore_index=True)\n",
    "    except:\n",
    "        pass"
   ]
  },
  {
   "cell_type": "code",
   "execution_count": 11,
   "id": "7d38f854-976b-4faa-bca7-e6c321909f42",
   "metadata": {},
   "outputs": [],
   "source": [
    "final_player_df = pd.DataFrame()\n",
    "final_player_df = merged_df.merge(player_db,how='left',on='key_cricinfo')\n",
    "not_available = final_player_df[final_player_df['player_type'].isna()]"
   ]
  },
  {
   "cell_type": "code",
   "execution_count": 12,
   "id": "c3af16c8-37e3-4c66-bc5a-43ba5ada5a24",
   "metadata": {},
   "outputs": [
    {
     "name": "stderr",
     "output_type": "stream",
     "text": [
      "100%|███████████████████████████████████████████| 67/67 [00:56<00:00,  1.19it/s]\n"
     ]
    }
   ],
   "source": [
    "missing_db = pd.DataFrame(columns=[\"key_cricinfo\",\"player_name\",\"batting_style\",\"player_type\",\"bowling_style\"])\n",
    "for player_id in tqdm(not_available.key_cricinfo.unique()):\n",
    "    #print(\"Player ID\",player_id)\n",
    "    url = f\"https://www.espncricinfo.com/player/firstname-lastname-{player_id}\"\n",
    "    html = requests.get(url)\n",
    "    soup = BeautifulSoup(html.text,'html.parser')\n",
    "    res = soup.select(\".ds-grid\")\n",
    "    player_d = []\n",
    "    player_d.append(player_id)\n",
    "    fields = []\n",
    "    answers = []\n",
    "    for r in res[0]:\n",
    "        fields.append(r.find(\"p\").text)\n",
    "        answers.append(r.find(\"span\").text)\n",
    "    page_dict = dict(zip(fields, answers))\n",
    "    player_d.append(page_dict[\"Full Name\"])\n",
    "    player_d.append(page_dict[\"Batting Style\"])\n",
    "    #if playing role is available and they are not bowlers \n",
    "    try:\n",
    "        player_d.append(page_dict[\"Playing Role\"])\n",
    "        player_d.append(\"NA\")\n",
    "        a_series = pd.Series(player_d,index = missing_db.columns)\n",
    "        missing_db = missing_db.append(a_series, ignore_index=True)\n",
    "        # if playing role is not available ,we set it as NA in except\n",
    "    except:\n",
    "        player_d.append(\"NA\")\n",
    "        # check if player has bowling style\n",
    "        try:\n",
    "            player_d.append(page_dict[\"Bowling Style\"])\n",
    "            a_series = pd.Series(player_d,index = missing_db.columns)\n",
    "            missing_db = missing_db.append(a_series, ignore_index=True)\n",
    "        # if player doesn't have bowling style , then set that also as NA\n",
    "        except:\n",
    "            player_d.append(\"NA\")\n",
    "            a_series = pd.Series(player_d,index = missing_db.columns)\n",
    "            missing_db = missing_db.append(a_series, ignore_index=True)\n",
    "            pass\n",
    "        pass"
   ]
  },
  {
   "cell_type": "code",
   "execution_count": 13,
   "id": "66380859-c32b-4147-bedd-8a4ffb10526c",
   "metadata": {},
   "outputs": [],
   "source": [
    "final_player_df = final_player_df.merge(missing_db,how='left',on='key_cricinfo')\n",
    "final_player_df = final_player_df.fillna(\"\")\n",
    "final_player_df['batting_style_x'] = final_player_df['batting_style_x']+final_player_df['batting_style_y']\n",
    "final_player_df.drop([\"player_name_x\",\"player_name_y\"],axis=1,inplace=True)\n",
    "final_player_df['player_type_x'] = final_player_df['player_type_x']+final_player_df['player_type_y']\n",
    "final_player_df['bowling_style_x'] = final_player_df['bowling_style_x']+final_player_df['bowling_style_y']\n",
    "final_player_df.drop(\"player_name\",axis=1,inplace=True)\n",
    "final_player_df.drop(['player_type_y','batting_style_y','bowling_style_y'],axis=1,inplace=True)\n",
    "final_player_df.rename({'batting_style_x':'batting_style','player_type_x':'player_type','bowling_style_x':'bowling_style'},axis=1,inplace=True)"
   ]
  },
  {
   "cell_type": "code",
   "execution_count": 16,
   "id": "78bc973d-db22-4d93-b57c-fb55baf5b9cb",
   "metadata": {},
   "outputs": [
    {
     "data": {
      "text/plain": [
       "Right hand Bat    1844\n",
       "Left hand Bat      685\n",
       "Name: batting_style, dtype: int64"
      ]
     },
     "execution_count": 16,
     "metadata": {},
     "output_type": "execute_result"
    }
   ],
   "source": [
    "final_player_df.batting_style.value_counts()"
   ]
  },
  {
   "cell_type": "code",
   "execution_count": 15,
   "id": "9bdbef1c-50b8-4420-9035-45f8022b52ce",
   "metadata": {},
   "outputs": [],
   "source": [
    "final_player_df.to_csv(\"player_details.csv\")"
   ]
  },
  {
   "cell_type": "code",
   "execution_count": null,
   "id": "e1a6c75f-29fe-47a2-bfd0-33e0abb5584e",
   "metadata": {},
   "outputs": [],
   "source": []
  },
  {
   "cell_type": "code",
   "execution_count": null,
   "id": "5378683c-c652-4583-ad15-98d11f872f19",
   "metadata": {},
   "outputs": [],
   "source": []
  }
 ],
 "metadata": {
  "kernelspec": {
   "display_name": "Python 3 (ipykernel)",
   "language": "python",
   "name": "python3"
  },
  "language_info": {
   "codemirror_mode": {
    "name": "ipython",
    "version": 3
   },
   "file_extension": ".py",
   "mimetype": "text/x-python",
   "name": "python",
   "nbconvert_exporter": "python",
   "pygments_lexer": "ipython3",
   "version": "3.9.7"
  }
 },
 "nbformat": 4,
 "nbformat_minor": 5
}
