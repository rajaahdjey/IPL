{
 "cells": [
  {
   "cell_type": "markdown",
   "id": "0e85562d-c80a-4334-b27f-08b5a343a94d",
   "metadata": {},
   "source": [
    "### Level 1"
   ]
  },
  {
   "cell_type": "markdown",
   "id": "e2323a57-cf29-46e4-9656-dff89892d31e",
   "metadata": {},
   "source": [
    "What is valuable?\n",
    "\n",
    "The oxford dictionary defines valuable as an adjective that refers to something that is :\n",
    "\n",
    "- worth a great deal of money\n",
    "- extremely useful or important."
   ]
  },
  {
   "cell_type": "markdown",
   "id": "1c332146-8c1d-41e4-a55d-561ef57c49f4",
   "metadata": {},
   "source": [
    "How do we define worth?"
   ]
  },
  {
   "cell_type": "markdown",
   "id": "dbc7742f-7192-4946-b4de-767690ad7c84",
   "metadata": {},
   "source": [
    "There were a total of 17912 delivered, when Shubman Gill hit the winning six to help Gujarat Titans hoist the trophy."
   ]
  },
  {
   "cell_type": "markdown",
   "id": "75f67464-7326-446d-9bac-107d0fec96fd",
   "metadata": {},
   "source": []
  }
 ],
 "metadata": {
  "kernelspec": {
   "display_name": "Python 3 (ipykernel)",
   "language": "python",
   "name": "python3"
  },
  "language_info": {
   "codemirror_mode": {
    "name": "ipython",
    "version": 3
   },
   "file_extension": ".py",
   "mimetype": "text/x-python",
   "name": "python",
   "nbconvert_exporter": "python",
   "pygments_lexer": "ipython3",
   "version": "3.9.7"
  }
 },
 "nbformat": 4,
 "nbformat_minor": 5
}
